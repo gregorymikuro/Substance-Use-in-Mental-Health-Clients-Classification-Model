{
 "cells": [
  {
   "cell_type": "markdown",
   "metadata": {},
   "source": [
    "\n",
    "# __Data Cleaning__\n",
    "\n",
    "Create a class Data Cleaner I with functions that do the following to the dataset data/extracted-data.csv\n",
    "1. Drop all rows with under 18 patients in \"age\" column which has values \"1\", \"2\", \"3\"\n",
    "2. Drop \"ethnicity\" column which is similar to race column and has losts of missing value\n",
    "3. Drop all rows in \"primary-mental-health-condition\" with values \"-9\" which is missing data and \"12\" which has rows with people with SUDs\n",
    "4. Drop all rows with value \"-9\" in \"target-variable\" column as it is missing data\n",
    "5. Impute cells with values \"-9\" in age, sex, race, columns as it is missing data\n",
    "6. Change all \"-9\" values in \"veteran-status\" to \"2\" for no\n"
   ]
  },
  {
   "cell_type": "code",
   "execution_count": 78,
   "metadata": {},
   "outputs": [],
   "source": [
    "import pandas as pd\n",
    "\n",
    "class DataCleanerI:\n",
    "    def __init__(self, file_path):\n",
    "        self.data = pd.read_csv(file_path)\n",
    "\n",
    "    def clean_data(self):\n",
    "        # 1. Drop rows with patients under 18 (values 1, 2, 3 in \"age\")\n",
    "        self.data.drop(self.data[self.data['age'] <= 3].index, inplace=True)\n",
    "\n",
    "        # 2. Drop \"ethnicity\" due to similarity to \"race\" and missing values\n",
    "        self.data.drop('ethnicity', axis=1, inplace=True)\n",
    "\n",
    "        # 3. Drop rows with missing/SUDs primary mental health conditions (-9 and 12)\n",
    "        self.data.drop(self.data[\n",
    "            (self.data['primary-mental-health-condition'] == -9) | \n",
    "            (self.data['primary-mental-health-condition'] == 12)\n",
    "        ].index, inplace=True)\n",
    "\n",
    "        # 4. Drop rows with missing values (-9) in specific columns\n",
    "        for column in ['target-variable', 'marital-status', 'education', 'employment-status', 'living-arrangement']:\n",
    "            self.data.drop(self.data[self.data[column] == -9].index, inplace=True)\n",
    "\n",
    "        # 5. Impute missing values (-9) in age, gender, and race\n",
    "        self.data['age'] = self.data['age'].replace(-9, self.data['age'].mean())\n",
    "        self.data['gender'] = self.data['gender'].replace(-9, self.data['gender'].mode()[0])\n",
    "        self.data['race'] = self.data['race'].replace(-9, self.data['race'].mode()[0])\n",
    "\n",
    "        # 6. Change missing veteran status (-9) to \"2\" (No)\n",
    "        self.data['veteran-status'] = self.data['veteran-status'].replace(-9, 2)\n",
    "\n",
    "        return self.data\n",
    "\n",
    "# Usage:\n",
    "data_cleaner = DataCleanerI('data/extracted-data.csv')\n",
    "cleaned_data = data_cleaner.clean_data()\n",
    "cleaned_data.to_csv('data/cleaned_data.csv', index=False)\n",
    "# cleaned_data "
   ]
  },
  {
   "cell_type": "code",
   "execution_count": 75,
   "metadata": {},
   "outputs": [],
   "source": [
    "# check for missing values\n",
    "# def calculate_percentage_of_minus_nine(cleaned_data):\n",
    "#     minus_nine_count = cleaned_data.eq(-9).sum()\n",
    "#     total_count = cleaned_data.count()\n",
    "#     minus_nine_percentage = (minus_nine_count / total_count) * 100\n",
    "#     return minus_nine_percentage\n",
    "\n",
    "# minus_nine_percentage = calculate_percentage_of_minus_nine(cleaned_data)\n",
    "# print(minus_nine_percentage)"
   ]
  }
 ],
 "metadata": {
  "kernelspec": {
   "display_name": "base",
   "language": "python",
   "name": "python3"
  },
  "language_info": {
   "codemirror_mode": {
    "name": "ipython",
    "version": 3
   },
   "file_extension": ".py",
   "mimetype": "text/x-python",
   "name": "python",
   "nbconvert_exporter": "python",
   "pygments_lexer": "ipython3",
   "version": "3.11.7"
  }
 },
 "nbformat": 4,
 "nbformat_minor": 2
}
