{
 "cells": [
  {
   "cell_type": "markdown",
   "metadata": {},
   "source": [
    "# __Data Extraction__"
   ]
  },
  {
   "cell_type": "code",
   "execution_count": 3,
   "metadata": {},
   "outputs": [],
   "source": [
    "# 1. extract the data from folder data/MH-CLD-2022-DS0001-bndl-data-csv_v1.zip name of csv is mhcld_puf_2022\n",
    "# 2. extract only columns required: **Variables:**\n",
    "\"\"\" - **Target Variable:**\n",
    "  - `SAP` (Substance Abuse Problem)\n",
    "- **Predictor Variables:**\n",
    "  - **Primary Mental Health Condition:**\n",
    "    - Exclude `MH1` values that indicate substance use disorders (value 12).\n",
    "  - **Demographic Variables:**\n",
    "    - `AGE` (Client Age)\n",
    "    - `ETHNIC` (Client Ethnicity)\n",
    "    - `RACE` (Client Race)\n",
    "    - `GENDER` (Client Gender)\n",
    "    - `MARSTAT` (Marital Status)\n",
    "    - `EDUC` (Client Education)\n",
    "    - `EMPLOY` (Employment Status)\n",
    "    - `LIVARAG` (Living Arrangement)\n",
    "    - `VETERAN` (Veteran Status)\n",
    "    - `STATEFIP` (State FIPS Code)\n",
    "\"\"\"\n",
    "# 3. change the name of the columns to be more intuitive as indicated above. Ensure they are lowercase and names are separated by a \"-\"\"\n",
    "# 4. create a csv file from the extracted data and name it extracted-data in the data folder. \n",
    "\n",
    "import pandas as pd\n",
    "import zipfile\n",
    "\n",
    "class DataExtractor:\n",
    "    def __init__(self, zip_file_path, csv_file_name, output_file_name):\n",
    "        \"\"\"\n",
    "        Initialize the DataExtractor class with the paths to the zip file, the CSV file name, and the output file name.\n",
    "\n",
    "        Args:\n",
    "            zip_file_path (str): The path to the zip file containing the CSV data.\n",
    "            csv_file_name (str): The name of the CSV file within the zip file.\n",
    "            output_file_name (str): The name of the output CSV file.\n",
    "        \"\"\"\n",
    "        self.zip_file_path = zip_file_path\n",
    "        self.csv_file_name = csv_file_name\n",
    "        self.output_file_name = output_file_name\n",
    "        self.required_columns = ['SAP', 'MH1', 'AGE', 'ETHNIC', 'RACE', 'GENDER', 'MARSTAT', 'EDUC', 'EMPLOY', 'LIVARAG', 'VETERAN', 'STATEFIP']\n",
    "        self.column_names = {'SAP': 'target-variable', 'MH1': 'primary-mental-health-condition', 'AGE': 'age', 'ETHNIC': 'ethnicity', 'RACE': 'race', 'GENDER': 'gender', 'MARSTAT': 'marital-status', 'EDUC': 'education', 'EMPLOY': 'employment-status', 'LIVARAG': 'living-arrangement', 'VETERAN': 'veteran-status', 'STATEFIP': 'state-fips-code'}\n",
    "\n",
    "    def extract_data(self):\n",
    "        \"\"\"\n",
    "        Extract the data from the zip file, select the required columns, and rename the columns.\n",
    "        Save the modified DataFrame to a CSV file.\n",
    "        \"\"\"\n",
    "        with zipfile.ZipFile(self.zip_file_path) as zfile:\n",
    "            with zfile.open(self.csv_file_name) as f:\n",
    "                df = pd.read_csv(f)\n",
    "        df = df[self.required_columns]\n",
    "        df.rename(columns=self.column_names, inplace=True)\n",
    "        df.to_csv(self.output_file_name, index=False)\n",
    "\n",
    "# Example usage\n",
    "extractor = DataExtractor('data/MH-CLD-2022-DS0001-bndl-data-csv_v1.zip', 'mhcld_puf_2022.csv', 'data/extracted-data.csv')\n",
    "extractor.extract_data()"
   ]
  }
 ],
 "metadata": {
  "kernelspec": {
   "display_name": "base",
   "language": "python",
   "name": "python3"
  },
  "language_info": {
   "codemirror_mode": {
    "name": "ipython",
    "version": 3
   },
   "file_extension": ".py",
   "mimetype": "text/x-python",
   "name": "python",
   "nbconvert_exporter": "python",
   "pygments_lexer": "ipython3",
   "version": "3.11.7"
  }
 },
 "nbformat": 4,
 "nbformat_minor": 2
}
